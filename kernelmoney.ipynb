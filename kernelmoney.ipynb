{
 "cells": [
  {
   "cell_type": "markdown",
   "metadata": {
    "_uuid": "0ed6b23b8871d677e707ef18d284d72e1fb60430"
   },
   "source": []
  },
  {
   "cell_type": "markdown",
   "metadata": {
    "_uuid": "9359af78b09b2e265605e9360818c6759989ee15"
   },
   "source": [
    "# Load packages"
   ]
  },
  {
   "cell_type": "code",
   "execution_count": 1,
   "metadata": {
    "_cell_guid": "b1076dfc-b9ad-4769-8c92-a6c4dae69d19",
    "_uuid": "8f2839f25d086af736a60e9eeb907d3b93b6e0e5"
   },
   "outputs": [
    {
     "ename": "ModuleNotFoundError",
     "evalue": "No module named 'lightgbm'",
     "output_type": "error",
     "traceback": [
      "\u001b[1;31m---------------------------------------------------------------------------\u001b[0m",
      "\u001b[1;31mModuleNotFoundError\u001b[0m                       Traceback (most recent call last)",
      "\u001b[1;32m<ipython-input-1-3c784c32dc62>\u001b[0m in \u001b[0;36m<module>\u001b[1;34m()\u001b[0m\n\u001b[0;32m     11\u001b[0m \u001b[1;32mfrom\u001b[0m \u001b[0msklearn\u001b[0m\u001b[1;33m.\u001b[0m\u001b[0mmodel_selection\u001b[0m \u001b[1;32mimport\u001b[0m \u001b[0mKFold\u001b[0m\u001b[1;33m\u001b[0m\u001b[0m\n\u001b[0;32m     12\u001b[0m \u001b[1;33m\u001b[0m\u001b[0m\n\u001b[1;32m---> 13\u001b[1;33m \u001b[1;32mimport\u001b[0m \u001b[0mlightgbm\u001b[0m \u001b[1;32mas\u001b[0m \u001b[0mlgb\u001b[0m\u001b[1;33m\u001b[0m\u001b[0m\n\u001b[0m\u001b[0;32m     14\u001b[0m \u001b[1;33m\u001b[0m\u001b[0m\n\u001b[0;32m     15\u001b[0m \u001b[1;32mimport\u001b[0m \u001b[0mwarnings\u001b[0m\u001b[1;33m\u001b[0m\u001b[0m\n",
      "\u001b[1;31mModuleNotFoundError\u001b[0m: No module named 'lightgbm'"
     ]
    }
   ],
   "source": [
    "import os\n",
    "import gc\n",
    "\n",
    "import numpy as np # linear algebra\n",
    "import pandas as pd # data processing, CSV file I/O (e.g. pd.read_csv)\n",
    "\n",
    "import seaborn as sns\n",
    "import matplotlib.pyplot as plt\n",
    "\n",
    "from sklearn.metrics import mean_squared_error\n",
    "from sklearn.model_selection import KFold\n",
    "\n",
    "import lightgbm as lgb\n",
    "\n",
    "import warnings\n",
    "warnings.simplefilter('ignore', FutureWarning)\n",
    "\n",
    "print(os.listdir(\"../input\"))"
   ]
  },
  {
   "cell_type": "markdown",
   "metadata": {
    "_uuid": "32ffc0efe8909024eaf75cb98bc60cb37e36e4bb"
   },
   "source": [
    "# Load datasets"
   ]
  },
  {
   "cell_type": "code",
   "execution_count": 2,
   "metadata": {
    "_cell_guid": "79c7e3d0-c299-4dcb-8224-4455121ee9b0",
    "_uuid": "d629ff2d2480ee46fbb7e2d37f6b5fab8052498a"
   },
   "outputs": [],
   "source": [
    "train = pd.read_csv('../input/train.csv', parse_dates=[\"first_active_month\"])\n",
    "test = pd.read_csv('../input/test.csv', parse_dates=[\"first_active_month\"])\n",
    "sample_submission = pd.read_csv('../input/sample_submission.csv')"
   ]
  },
  {
   "cell_type": "code",
   "execution_count": 3,
   "metadata": {
    "_uuid": "1201bd18a40de89e0d8d9780d0d0826d6b71fc94"
   },
   "outputs": [
    {
     "data": {
      "text/plain": [
       "((201917, 6), (123623, 5), (123623, 2))"
      ]
     },
     "execution_count": 3,
     "metadata": {},
     "output_type": "execute_result"
    }
   ],
   "source": [
    "train.shape, test.shape, sample_submission.shape"
   ]
  },
  {
   "cell_type": "code",
   "execution_count": 4,
   "metadata": {
    "_uuid": "00367965ddadab0f105bbd77ed9c739580a6875a"
   },
   "outputs": [
    {
     "data": {
      "text/html": [
       "<div>\n",
       "<style scoped>\n",
       "    .dataframe tbody tr th:only-of-type {\n",
       "        vertical-align: middle;\n",
       "    }\n",
       "\n",
       "    .dataframe tbody tr th {\n",
       "        vertical-align: top;\n",
       "    }\n",
       "\n",
       "    .dataframe thead th {\n",
       "        text-align: right;\n",
       "    }\n",
       "</style>\n",
       "<table border=\"1\" class=\"dataframe\">\n",
       "  <thead>\n",
       "    <tr style=\"text-align: right;\">\n",
       "      <th></th>\n",
       "      <th>first_active_month</th>\n",
       "      <th>card_id</th>\n",
       "      <th>feature_1</th>\n",
       "      <th>feature_2</th>\n",
       "      <th>feature_3</th>\n",
       "      <th>target</th>\n",
       "    </tr>\n",
       "  </thead>\n",
       "  <tbody>\n",
       "    <tr>\n",
       "      <th>0</th>\n",
       "      <td>2017-06-01</td>\n",
       "      <td>C_ID_92a2005557</td>\n",
       "      <td>5</td>\n",
       "      <td>2</td>\n",
       "      <td>1</td>\n",
       "      <td>-0.820283</td>\n",
       "    </tr>\n",
       "    <tr>\n",
       "      <th>1</th>\n",
       "      <td>2017-01-01</td>\n",
       "      <td>C_ID_3d0044924f</td>\n",
       "      <td>4</td>\n",
       "      <td>1</td>\n",
       "      <td>0</td>\n",
       "      <td>0.392913</td>\n",
       "    </tr>\n",
       "    <tr>\n",
       "      <th>2</th>\n",
       "      <td>2016-08-01</td>\n",
       "      <td>C_ID_d639edf6cd</td>\n",
       "      <td>2</td>\n",
       "      <td>2</td>\n",
       "      <td>0</td>\n",
       "      <td>0.688056</td>\n",
       "    </tr>\n",
       "    <tr>\n",
       "      <th>3</th>\n",
       "      <td>2017-09-01</td>\n",
       "      <td>C_ID_186d6a6901</td>\n",
       "      <td>4</td>\n",
       "      <td>3</td>\n",
       "      <td>0</td>\n",
       "      <td>0.142495</td>\n",
       "    </tr>\n",
       "    <tr>\n",
       "      <th>4</th>\n",
       "      <td>2017-11-01</td>\n",
       "      <td>C_ID_cdbd2c0db2</td>\n",
       "      <td>1</td>\n",
       "      <td>3</td>\n",
       "      <td>0</td>\n",
       "      <td>-0.159749</td>\n",
       "    </tr>\n",
       "    <tr>\n",
       "      <th>5</th>\n",
       "      <td>2016-09-01</td>\n",
       "      <td>C_ID_0894217f2f</td>\n",
       "      <td>4</td>\n",
       "      <td>2</td>\n",
       "      <td>0</td>\n",
       "      <td>0.871585</td>\n",
       "    </tr>\n",
       "    <tr>\n",
       "      <th>6</th>\n",
       "      <td>2016-12-01</td>\n",
       "      <td>C_ID_7e63323c00</td>\n",
       "      <td>3</td>\n",
       "      <td>2</td>\n",
       "      <td>1</td>\n",
       "      <td>0.230129</td>\n",
       "    </tr>\n",
       "    <tr>\n",
       "      <th>7</th>\n",
       "      <td>2017-09-01</td>\n",
       "      <td>C_ID_dfa21fc124</td>\n",
       "      <td>3</td>\n",
       "      <td>2</td>\n",
       "      <td>1</td>\n",
       "      <td>2.135850</td>\n",
       "    </tr>\n",
       "    <tr>\n",
       "      <th>8</th>\n",
       "      <td>2017-08-01</td>\n",
       "      <td>C_ID_fe0fdac8ea</td>\n",
       "      <td>2</td>\n",
       "      <td>1</td>\n",
       "      <td>0</td>\n",
       "      <td>-0.065406</td>\n",
       "    </tr>\n",
       "    <tr>\n",
       "      <th>9</th>\n",
       "      <td>2016-08-01</td>\n",
       "      <td>C_ID_bf62c0b49d</td>\n",
       "      <td>2</td>\n",
       "      <td>2</td>\n",
       "      <td>0</td>\n",
       "      <td>0.300062</td>\n",
       "    </tr>\n",
       "  </tbody>\n",
       "</table>\n",
       "</div>"
      ],
      "text/plain": [
       "  first_active_month          card_id    ...     feature_3    target\n",
       "0         2017-06-01  C_ID_92a2005557    ...             1 -0.820283\n",
       "1         2017-01-01  C_ID_3d0044924f    ...             0  0.392913\n",
       "2         2016-08-01  C_ID_d639edf6cd    ...             0  0.688056\n",
       "3         2017-09-01  C_ID_186d6a6901    ...             0  0.142495\n",
       "4         2017-11-01  C_ID_cdbd2c0db2    ...             0 -0.159749\n",
       "5         2016-09-01  C_ID_0894217f2f    ...             0  0.871585\n",
       "6         2016-12-01  C_ID_7e63323c00    ...             1  0.230129\n",
       "7         2017-09-01  C_ID_dfa21fc124    ...             1  2.135850\n",
       "8         2017-08-01  C_ID_fe0fdac8ea    ...             0 -0.065406\n",
       "9         2016-08-01  C_ID_bf62c0b49d    ...             0  0.300062\n",
       "\n",
       "[10 rows x 6 columns]"
      ]
     },
     "execution_count": 4,
     "metadata": {},
     "output_type": "execute_result"
    }
   ],
   "source": [
    "train.head(10)"
   ]
  },
  {
   "cell_type": "code",
   "execution_count": 5,
   "metadata": {
    "_uuid": "c0544675ceed4ad3e38c990c98dc8305bfac0bf4"
   },
   "outputs": [
    {
     "data": {
      "text/html": [
       "<div>\n",
       "<style scoped>\n",
       "    .dataframe tbody tr th:only-of-type {\n",
       "        vertical-align: middle;\n",
       "    }\n",
       "\n",
       "    .dataframe tbody tr th {\n",
       "        vertical-align: top;\n",
       "    }\n",
       "\n",
       "    .dataframe thead th {\n",
       "        text-align: right;\n",
       "    }\n",
       "</style>\n",
       "<table border=\"1\" class=\"dataframe\">\n",
       "  <thead>\n",
       "    <tr style=\"text-align: right;\">\n",
       "      <th></th>\n",
       "      <th>first_active_month</th>\n",
       "      <th>card_id</th>\n",
       "      <th>feature_1</th>\n",
       "      <th>feature_2</th>\n",
       "      <th>feature_3</th>\n",
       "    </tr>\n",
       "  </thead>\n",
       "  <tbody>\n",
       "    <tr>\n",
       "      <th>0</th>\n",
       "      <td>2017-04-01</td>\n",
       "      <td>C_ID_0ab67a22ab</td>\n",
       "      <td>3</td>\n",
       "      <td>3</td>\n",
       "      <td>1</td>\n",
       "    </tr>\n",
       "    <tr>\n",
       "      <th>1</th>\n",
       "      <td>2017-01-01</td>\n",
       "      <td>C_ID_130fd0cbdd</td>\n",
       "      <td>2</td>\n",
       "      <td>3</td>\n",
       "      <td>0</td>\n",
       "    </tr>\n",
       "    <tr>\n",
       "      <th>2</th>\n",
       "      <td>2017-08-01</td>\n",
       "      <td>C_ID_b709037bc5</td>\n",
       "      <td>5</td>\n",
       "      <td>1</td>\n",
       "      <td>1</td>\n",
       "    </tr>\n",
       "    <tr>\n",
       "      <th>3</th>\n",
       "      <td>2017-12-01</td>\n",
       "      <td>C_ID_d27d835a9f</td>\n",
       "      <td>2</td>\n",
       "      <td>1</td>\n",
       "      <td>0</td>\n",
       "    </tr>\n",
       "    <tr>\n",
       "      <th>4</th>\n",
       "      <td>2015-12-01</td>\n",
       "      <td>C_ID_2b5e3df5c2</td>\n",
       "      <td>5</td>\n",
       "      <td>1</td>\n",
       "      <td>1</td>\n",
       "    </tr>\n",
       "    <tr>\n",
       "      <th>5</th>\n",
       "      <td>2017-07-01</td>\n",
       "      <td>C_ID_5814b4f13c</td>\n",
       "      <td>5</td>\n",
       "      <td>1</td>\n",
       "      <td>1</td>\n",
       "    </tr>\n",
       "    <tr>\n",
       "      <th>6</th>\n",
       "      <td>2017-10-01</td>\n",
       "      <td>C_ID_a1b3c75277</td>\n",
       "      <td>1</td>\n",
       "      <td>2</td>\n",
       "      <td>0</td>\n",
       "    </tr>\n",
       "    <tr>\n",
       "      <th>7</th>\n",
       "      <td>2017-02-01</td>\n",
       "      <td>C_ID_f7cada36d3</td>\n",
       "      <td>3</td>\n",
       "      <td>1</td>\n",
       "      <td>1</td>\n",
       "    </tr>\n",
       "    <tr>\n",
       "      <th>8</th>\n",
       "      <td>2017-07-01</td>\n",
       "      <td>C_ID_9d2bc8dfc4</td>\n",
       "      <td>4</td>\n",
       "      <td>3</td>\n",
       "      <td>0</td>\n",
       "    </tr>\n",
       "    <tr>\n",
       "      <th>9</th>\n",
       "      <td>2016-03-01</td>\n",
       "      <td>C_ID_6d8dba8475</td>\n",
       "      <td>5</td>\n",
       "      <td>1</td>\n",
       "      <td>1</td>\n",
       "    </tr>\n",
       "  </tbody>\n",
       "</table>\n",
       "</div>"
      ],
      "text/plain": [
       "  first_active_month          card_id    ...      feature_2  feature_3\n",
       "0         2017-04-01  C_ID_0ab67a22ab    ...              3          1\n",
       "1         2017-01-01  C_ID_130fd0cbdd    ...              3          0\n",
       "2         2017-08-01  C_ID_b709037bc5    ...              1          1\n",
       "3         2017-12-01  C_ID_d27d835a9f    ...              1          0\n",
       "4         2015-12-01  C_ID_2b5e3df5c2    ...              1          1\n",
       "5         2017-07-01  C_ID_5814b4f13c    ...              1          1\n",
       "6         2017-10-01  C_ID_a1b3c75277    ...              2          0\n",
       "7         2017-02-01  C_ID_f7cada36d3    ...              1          1\n",
       "8         2017-07-01  C_ID_9d2bc8dfc4    ...              3          0\n",
       "9         2016-03-01  C_ID_6d8dba8475    ...              1          1\n",
       "\n",
       "[10 rows x 5 columns]"
      ]
     },
     "execution_count": 5,
     "metadata": {},
     "output_type": "execute_result"
    }
   ],
   "source": [
    "test.head(10)"
   ]
  },
  {
   "cell_type": "code",
   "execution_count": 6,
   "metadata": {
    "_uuid": "776ffcc1c03d9ab226c9861ba3c775670705f88c"
   },
   "outputs": [],
   "source": [
    "merchants = pd.read_csv('../input/merchants.csv')\n",
    "historical_transactions = pd.read_csv('../input/historical_transactions.csv')\n",
    "new_merchant_transactions = pd.read_csv('../input/new_merchant_transactions.csv')"
   ]
  },
  {
   "cell_type": "code",
   "execution_count": 7,
   "metadata": {
    "_uuid": "e5bd3cb9e4e5b689352c6bb862d53b34e70cd512"
   },
   "outputs": [
    {
     "data": {
      "text/plain": [
       "((334696, 22), (29112361, 14), (1963031, 14))"
      ]
     },
     "execution_count": 7,
     "metadata": {},
     "output_type": "execute_result"
    }
   ],
   "source": [
    "merchants.shape, historical_transactions.shape, new_merchant_transactions.shape"
   ]
  },
  {
   "cell_type": "code",
   "execution_count": 8,
   "metadata": {
    "_uuid": "a099d8aac57f289ad376c6f1e3d96cf9f3e6a49a"
   },
   "outputs": [
    {
     "data": {
      "text/html": [
       "<div>\n",
       "<style scoped>\n",
       "    .dataframe tbody tr th:only-of-type {\n",
       "        vertical-align: middle;\n",
       "    }\n",
       "\n",
       "    .dataframe tbody tr th {\n",
       "        vertical-align: top;\n",
       "    }\n",
       "\n",
       "    .dataframe thead th {\n",
       "        text-align: right;\n",
       "    }\n",
       "</style>\n",
       "<table border=\"1\" class=\"dataframe\">\n",
       "  <thead>\n",
       "    <tr style=\"text-align: right;\">\n",
       "      <th></th>\n",
       "      <th>merchant_id</th>\n",
       "      <th>merchant_group_id</th>\n",
       "      <th>merchant_category_id</th>\n",
       "      <th>subsector_id</th>\n",
       "      <th>numerical_1</th>\n",
       "      <th>numerical_2</th>\n",
       "      <th>category_1</th>\n",
       "      <th>most_recent_sales_range</th>\n",
       "      <th>most_recent_purchases_range</th>\n",
       "      <th>avg_sales_lag3</th>\n",
       "      <th>avg_purchases_lag3</th>\n",
       "      <th>active_months_lag3</th>\n",
       "      <th>avg_sales_lag6</th>\n",
       "      <th>avg_purchases_lag6</th>\n",
       "      <th>active_months_lag6</th>\n",
       "      <th>avg_sales_lag12</th>\n",
       "      <th>avg_purchases_lag12</th>\n",
       "      <th>active_months_lag12</th>\n",
       "      <th>category_4</th>\n",
       "      <th>city_id</th>\n",
       "      <th>state_id</th>\n",
       "      <th>category_2</th>\n",
       "    </tr>\n",
       "  </thead>\n",
       "  <tbody>\n",
       "    <tr>\n",
       "      <th>0</th>\n",
       "      <td>M_ID_838061e48c</td>\n",
       "      <td>8353</td>\n",
       "      <td>792</td>\n",
       "      <td>9</td>\n",
       "      <td>-0.057471</td>\n",
       "      <td>-0.057471</td>\n",
       "      <td>N</td>\n",
       "      <td>E</td>\n",
       "      <td>E</td>\n",
       "      <td>-0.40</td>\n",
       "      <td>9.666667</td>\n",
       "      <td>3</td>\n",
       "      <td>-2.25</td>\n",
       "      <td>18.666667</td>\n",
       "      <td>6</td>\n",
       "      <td>-2.32</td>\n",
       "      <td>13.916667</td>\n",
       "      <td>12</td>\n",
       "      <td>N</td>\n",
       "      <td>242</td>\n",
       "      <td>9</td>\n",
       "      <td>1.0</td>\n",
       "    </tr>\n",
       "    <tr>\n",
       "      <th>1</th>\n",
       "      <td>M_ID_9339d880ad</td>\n",
       "      <td>3184</td>\n",
       "      <td>840</td>\n",
       "      <td>20</td>\n",
       "      <td>-0.057471</td>\n",
       "      <td>-0.057471</td>\n",
       "      <td>N</td>\n",
       "      <td>E</td>\n",
       "      <td>E</td>\n",
       "      <td>-0.72</td>\n",
       "      <td>1.750000</td>\n",
       "      <td>3</td>\n",
       "      <td>-0.74</td>\n",
       "      <td>1.291667</td>\n",
       "      <td>6</td>\n",
       "      <td>-0.57</td>\n",
       "      <td>1.687500</td>\n",
       "      <td>12</td>\n",
       "      <td>N</td>\n",
       "      <td>22</td>\n",
       "      <td>16</td>\n",
       "      <td>1.0</td>\n",
       "    </tr>\n",
       "    <tr>\n",
       "      <th>2</th>\n",
       "      <td>M_ID_e726bbae1e</td>\n",
       "      <td>447</td>\n",
       "      <td>690</td>\n",
       "      <td>1</td>\n",
       "      <td>-0.057471</td>\n",
       "      <td>-0.057471</td>\n",
       "      <td>N</td>\n",
       "      <td>E</td>\n",
       "      <td>E</td>\n",
       "      <td>-82.13</td>\n",
       "      <td>260.000000</td>\n",
       "      <td>2</td>\n",
       "      <td>-82.13</td>\n",
       "      <td>260.000000</td>\n",
       "      <td>2</td>\n",
       "      <td>-82.13</td>\n",
       "      <td>260.000000</td>\n",
       "      <td>2</td>\n",
       "      <td>N</td>\n",
       "      <td>-1</td>\n",
       "      <td>5</td>\n",
       "      <td>5.0</td>\n",
       "    </tr>\n",
       "    <tr>\n",
       "      <th>3</th>\n",
       "      <td>M_ID_a70e9c5f81</td>\n",
       "      <td>5026</td>\n",
       "      <td>792</td>\n",
       "      <td>9</td>\n",
       "      <td>-0.057471</td>\n",
       "      <td>-0.057471</td>\n",
       "      <td>Y</td>\n",
       "      <td>E</td>\n",
       "      <td>E</td>\n",
       "      <td>NaN</td>\n",
       "      <td>1.666667</td>\n",
       "      <td>3</td>\n",
       "      <td>NaN</td>\n",
       "      <td>4.666667</td>\n",
       "      <td>6</td>\n",
       "      <td>NaN</td>\n",
       "      <td>3.833333</td>\n",
       "      <td>12</td>\n",
       "      <td>Y</td>\n",
       "      <td>-1</td>\n",
       "      <td>-1</td>\n",
       "      <td>NaN</td>\n",
       "    </tr>\n",
       "    <tr>\n",
       "      <th>4</th>\n",
       "      <td>M_ID_64456c37ce</td>\n",
       "      <td>2228</td>\n",
       "      <td>222</td>\n",
       "      <td>21</td>\n",
       "      <td>-0.057471</td>\n",
       "      <td>-0.057471</td>\n",
       "      <td>Y</td>\n",
       "      <td>E</td>\n",
       "      <td>E</td>\n",
       "      <td>NaN</td>\n",
       "      <td>0.500000</td>\n",
       "      <td>3</td>\n",
       "      <td>NaN</td>\n",
       "      <td>0.361111</td>\n",
       "      <td>6</td>\n",
       "      <td>NaN</td>\n",
       "      <td>0.347222</td>\n",
       "      <td>12</td>\n",
       "      <td>Y</td>\n",
       "      <td>-1</td>\n",
       "      <td>-1</td>\n",
       "      <td>NaN</td>\n",
       "    </tr>\n",
       "  </tbody>\n",
       "</table>\n",
       "</div>"
      ],
      "text/plain": [
       "       merchant_id  merchant_group_id     ...      state_id  category_2\n",
       "0  M_ID_838061e48c               8353     ...             9         1.0\n",
       "1  M_ID_9339d880ad               3184     ...            16         1.0\n",
       "2  M_ID_e726bbae1e                447     ...             5         5.0\n",
       "3  M_ID_a70e9c5f81               5026     ...            -1         NaN\n",
       "4  M_ID_64456c37ce               2228     ...            -1         NaN\n",
       "\n",
       "[5 rows x 22 columns]"
      ]
     },
     "execution_count": 8,
     "metadata": {},
     "output_type": "execute_result"
    }
   ],
   "source": [
    "merchants.head()"
   ]
  },
  {
   "cell_type": "code",
   "execution_count": 9,
   "metadata": {
    "_uuid": "73b1f3a2fd71074061172703e0cc9338e81199fe"
   },
   "outputs": [
    {
     "data": {
      "text/html": [
       "<div>\n",
       "<style scoped>\n",
       "    .dataframe tbody tr th:only-of-type {\n",
       "        vertical-align: middle;\n",
       "    }\n",
       "\n",
       "    .dataframe tbody tr th {\n",
       "        vertical-align: top;\n",
       "    }\n",
       "\n",
       "    .dataframe thead th {\n",
       "        text-align: right;\n",
       "    }\n",
       "</style>\n",
       "<table border=\"1\" class=\"dataframe\">\n",
       "  <thead>\n",
       "    <tr style=\"text-align: right;\">\n",
       "      <th></th>\n",
       "      <th>authorized_flag</th>\n",
       "      <th>card_id</th>\n",
       "      <th>city_id</th>\n",
       "      <th>category_1</th>\n",
       "      <th>installments</th>\n",
       "      <th>category_3</th>\n",
       "      <th>merchant_category_id</th>\n",
       "      <th>merchant_id</th>\n",
       "      <th>month_lag</th>\n",
       "      <th>purchase_amount</th>\n",
       "      <th>purchase_date</th>\n",
       "      <th>category_2</th>\n",
       "      <th>state_id</th>\n",
       "      <th>subsector_id</th>\n",
       "    </tr>\n",
       "  </thead>\n",
       "  <tbody>\n",
       "    <tr>\n",
       "      <th>0</th>\n",
       "      <td>Y</td>\n",
       "      <td>C_ID_4e6213e9bc</td>\n",
       "      <td>88</td>\n",
       "      <td>N</td>\n",
       "      <td>0</td>\n",
       "      <td>A</td>\n",
       "      <td>80</td>\n",
       "      <td>M_ID_e020e9b302</td>\n",
       "      <td>-8</td>\n",
       "      <td>-0.703331</td>\n",
       "      <td>2017-06-25 15:33:07</td>\n",
       "      <td>1.0</td>\n",
       "      <td>16</td>\n",
       "      <td>37</td>\n",
       "    </tr>\n",
       "    <tr>\n",
       "      <th>1</th>\n",
       "      <td>Y</td>\n",
       "      <td>C_ID_4e6213e9bc</td>\n",
       "      <td>88</td>\n",
       "      <td>N</td>\n",
       "      <td>0</td>\n",
       "      <td>A</td>\n",
       "      <td>367</td>\n",
       "      <td>M_ID_86ec983688</td>\n",
       "      <td>-7</td>\n",
       "      <td>-0.733128</td>\n",
       "      <td>2017-07-15 12:10:45</td>\n",
       "      <td>1.0</td>\n",
       "      <td>16</td>\n",
       "      <td>16</td>\n",
       "    </tr>\n",
       "    <tr>\n",
       "      <th>2</th>\n",
       "      <td>Y</td>\n",
       "      <td>C_ID_4e6213e9bc</td>\n",
       "      <td>88</td>\n",
       "      <td>N</td>\n",
       "      <td>0</td>\n",
       "      <td>A</td>\n",
       "      <td>80</td>\n",
       "      <td>M_ID_979ed661fc</td>\n",
       "      <td>-6</td>\n",
       "      <td>-0.720386</td>\n",
       "      <td>2017-08-09 22:04:29</td>\n",
       "      <td>1.0</td>\n",
       "      <td>16</td>\n",
       "      <td>37</td>\n",
       "    </tr>\n",
       "    <tr>\n",
       "      <th>3</th>\n",
       "      <td>Y</td>\n",
       "      <td>C_ID_4e6213e9bc</td>\n",
       "      <td>88</td>\n",
       "      <td>N</td>\n",
       "      <td>0</td>\n",
       "      <td>A</td>\n",
       "      <td>560</td>\n",
       "      <td>M_ID_e6d5ae8ea6</td>\n",
       "      <td>-5</td>\n",
       "      <td>-0.735352</td>\n",
       "      <td>2017-09-02 10:06:26</td>\n",
       "      <td>1.0</td>\n",
       "      <td>16</td>\n",
       "      <td>34</td>\n",
       "    </tr>\n",
       "    <tr>\n",
       "      <th>4</th>\n",
       "      <td>Y</td>\n",
       "      <td>C_ID_4e6213e9bc</td>\n",
       "      <td>88</td>\n",
       "      <td>N</td>\n",
       "      <td>0</td>\n",
       "      <td>A</td>\n",
       "      <td>80</td>\n",
       "      <td>M_ID_e020e9b302</td>\n",
       "      <td>-11</td>\n",
       "      <td>-0.722865</td>\n",
       "      <td>2017-03-10 01:14:19</td>\n",
       "      <td>1.0</td>\n",
       "      <td>16</td>\n",
       "      <td>37</td>\n",
       "    </tr>\n",
       "  </tbody>\n",
       "</table>\n",
       "</div>"
      ],
      "text/plain": [
       "  authorized_flag          card_id     ...       state_id subsector_id\n",
       "0               Y  C_ID_4e6213e9bc     ...             16           37\n",
       "1               Y  C_ID_4e6213e9bc     ...             16           16\n",
       "2               Y  C_ID_4e6213e9bc     ...             16           37\n",
       "3               Y  C_ID_4e6213e9bc     ...             16           34\n",
       "4               Y  C_ID_4e6213e9bc     ...             16           37\n",
       "\n",
       "[5 rows x 14 columns]"
      ]
     },
     "execution_count": 9,
     "metadata": {},
     "output_type": "execute_result"
    }
   ],
   "source": [
    "historical_transactions.head()"
   ]
  },
  {
   "cell_type": "code",
   "execution_count": 10,
   "metadata": {
    "_uuid": "df1b42bb42c4e1ab833fe229e32767e48034f70b"
   },
   "outputs": [
    {
     "data": {
      "text/html": [
       "<div>\n",
       "<style scoped>\n",
       "    .dataframe tbody tr th:only-of-type {\n",
       "        vertical-align: middle;\n",
       "    }\n",
       "\n",
       "    .dataframe tbody tr th {\n",
       "        vertical-align: top;\n",
       "    }\n",
       "\n",
       "    .dataframe thead th {\n",
       "        text-align: right;\n",
       "    }\n",
       "</style>\n",
       "<table border=\"1\" class=\"dataframe\">\n",
       "  <thead>\n",
       "    <tr style=\"text-align: right;\">\n",
       "      <th></th>\n",
       "      <th>authorized_flag</th>\n",
       "      <th>card_id</th>\n",
       "      <th>city_id</th>\n",
       "      <th>category_1</th>\n",
       "      <th>installments</th>\n",
       "      <th>category_3</th>\n",
       "      <th>merchant_category_id</th>\n",
       "      <th>merchant_id</th>\n",
       "      <th>month_lag</th>\n",
       "      <th>purchase_amount</th>\n",
       "      <th>purchase_date</th>\n",
       "      <th>category_2</th>\n",
       "      <th>state_id</th>\n",
       "      <th>subsector_id</th>\n",
       "    </tr>\n",
       "  </thead>\n",
       "  <tbody>\n",
       "    <tr>\n",
       "      <th>0</th>\n",
       "      <td>Y</td>\n",
       "      <td>C_ID_415bb3a509</td>\n",
       "      <td>107</td>\n",
       "      <td>N</td>\n",
       "      <td>1</td>\n",
       "      <td>B</td>\n",
       "      <td>307</td>\n",
       "      <td>M_ID_b0c793002c</td>\n",
       "      <td>1</td>\n",
       "      <td>-0.557574</td>\n",
       "      <td>2018-03-11 14:57:36</td>\n",
       "      <td>1.0</td>\n",
       "      <td>9</td>\n",
       "      <td>19</td>\n",
       "    </tr>\n",
       "    <tr>\n",
       "      <th>1</th>\n",
       "      <td>Y</td>\n",
       "      <td>C_ID_415bb3a509</td>\n",
       "      <td>140</td>\n",
       "      <td>N</td>\n",
       "      <td>1</td>\n",
       "      <td>B</td>\n",
       "      <td>307</td>\n",
       "      <td>M_ID_88920c89e8</td>\n",
       "      <td>1</td>\n",
       "      <td>-0.569580</td>\n",
       "      <td>2018-03-19 18:53:37</td>\n",
       "      <td>1.0</td>\n",
       "      <td>9</td>\n",
       "      <td>19</td>\n",
       "    </tr>\n",
       "    <tr>\n",
       "      <th>2</th>\n",
       "      <td>Y</td>\n",
       "      <td>C_ID_415bb3a509</td>\n",
       "      <td>330</td>\n",
       "      <td>N</td>\n",
       "      <td>1</td>\n",
       "      <td>B</td>\n",
       "      <td>507</td>\n",
       "      <td>M_ID_ad5237ef6b</td>\n",
       "      <td>2</td>\n",
       "      <td>-0.551037</td>\n",
       "      <td>2018-04-26 14:08:44</td>\n",
       "      <td>1.0</td>\n",
       "      <td>9</td>\n",
       "      <td>14</td>\n",
       "    </tr>\n",
       "    <tr>\n",
       "      <th>3</th>\n",
       "      <td>Y</td>\n",
       "      <td>C_ID_415bb3a509</td>\n",
       "      <td>-1</td>\n",
       "      <td>Y</td>\n",
       "      <td>1</td>\n",
       "      <td>B</td>\n",
       "      <td>661</td>\n",
       "      <td>M_ID_9e84cda3b1</td>\n",
       "      <td>1</td>\n",
       "      <td>-0.671925</td>\n",
       "      <td>2018-03-07 09:43:21</td>\n",
       "      <td>NaN</td>\n",
       "      <td>-1</td>\n",
       "      <td>8</td>\n",
       "    </tr>\n",
       "    <tr>\n",
       "      <th>4</th>\n",
       "      <td>Y</td>\n",
       "      <td>C_ID_ef55cf8d4b</td>\n",
       "      <td>-1</td>\n",
       "      <td>Y</td>\n",
       "      <td>1</td>\n",
       "      <td>B</td>\n",
       "      <td>166</td>\n",
       "      <td>M_ID_3c86fa3831</td>\n",
       "      <td>1</td>\n",
       "      <td>-0.659904</td>\n",
       "      <td>2018-03-22 21:07:53</td>\n",
       "      <td>NaN</td>\n",
       "      <td>-1</td>\n",
       "      <td>29</td>\n",
       "    </tr>\n",
       "  </tbody>\n",
       "</table>\n",
       "</div>"
      ],
      "text/plain": [
       "  authorized_flag          card_id     ...       state_id subsector_id\n",
       "0               Y  C_ID_415bb3a509     ...              9           19\n",
       "1               Y  C_ID_415bb3a509     ...              9           19\n",
       "2               Y  C_ID_415bb3a509     ...              9           14\n",
       "3               Y  C_ID_415bb3a509     ...             -1            8\n",
       "4               Y  C_ID_ef55cf8d4b     ...             -1           29\n",
       "\n",
       "[5 rows x 14 columns]"
      ]
     },
     "execution_count": 10,
     "metadata": {},
     "output_type": "execute_result"
    }
   ],
   "source": [
    "new_merchant_transactions.head()"
   ]
  },
  {
   "cell_type": "markdown",
   "metadata": {
    "_uuid": "06afee6fae5e96af10b316296d539f3afb8094c3"
   },
   "source": [
    "# Preprocessing"
   ]
  },
  {
   "cell_type": "code",
   "execution_count": 11,
   "metadata": {
    "_uuid": "5690bebe7b59d7f6b6acfe7836e82d45b65974fc"
   },
   "outputs": [],
   "source": [
    "def missing_impute(df):\n",
    "    for i in df.columns:\n",
    "        if df[i].dtype == \"object\":\n",
    "            df[i] = df[i].fillna(\"other\")\n",
    "        elif (df[i].dtype == \"int64\" or df[i].dtype == \"float64\"):\n",
    "            df[i] = df[i].fillna(df[i].mean())\n",
    "        else:\n",
    "            pass\n",
    "    return df"
   ]
  },
  {
   "cell_type": "code",
   "execution_count": 12,
   "metadata": {
    "_uuid": "ab18ef780c79de30abaff5937d2706605bbabc60"
   },
   "outputs": [],
   "source": [
    "def datetime_extract(df, dt_col='first_active_month'):\n",
    "    df['date'] = df[dt_col].dt.date \n",
    "    df['day'] = df[dt_col].dt.day \n",
    "    df['dayofweek'] = df[dt_col].dt.dayofweek\n",
    "    df['dayofyear'] = df[dt_col].dt.dayofyear\n",
    "    df['days_in_month'] = df[dt_col].dt.days_in_month\n",
    "    df['daysinmonth'] = df[dt_col].dt.daysinmonth \n",
    "    df['month'] = df[dt_col].dt.month\n",
    "    df['week'] = df[dt_col].dt.week \n",
    "    df['weekday'] = df[dt_col].dt.weekday\n",
    "    df['weekofyear'] = df[dt_col].dt.weekofyear\n",
    "    df['year'] = train[dt_col].dt.year\n",
    "\n",
    "    return df"
   ]
  },
  {
   "cell_type": "code",
   "execution_count": 13,
   "metadata": {
    "_uuid": "d6aee2a3c0f89f20fe050fa28e429c70321876e0"
   },
   "outputs": [],
   "source": [
    "# Do impute missing values\n",
    "for df in [train, test, merchants, historical_transactions, new_merchant_transactions]:\n",
    "    missing_impute(df)"
   ]
  },
  {
   "cell_type": "code",
   "execution_count": 14,
   "metadata": {
    "_kg_hide-output": true,
    "_uuid": "f5fb2ea6c9dead11a98c5579370ec895834568e6"
   },
   "outputs": [],
   "source": [
    "# Do extract datetime values\n",
    "train = datetime_extract(train, dt_col='first_active_month')\n",
    "test = datetime_extract(test, dt_col='first_active_month')"
   ]
  },
  {
   "cell_type": "code",
   "execution_count": 15,
   "metadata": {
    "_uuid": "cbe41130a6ecf72dbe6fa001c8cbb44529f7a86d"
   },
   "outputs": [
    {
     "data": {
      "text/plain": [
       "((201917, 17), (123623, 16))"
      ]
     },
     "execution_count": 15,
     "metadata": {},
     "output_type": "execute_result"
    }
   ],
   "source": [
    "train.shape, test.shape"
   ]
  },
  {
   "cell_type": "markdown",
   "metadata": {
    "_uuid": "70bf49e0fa2a09df07843b06bd53b5600077511d"
   },
   "source": [
    "**Merge train and test with historical transactions**"
   ]
  },
  {
   "cell_type": "code",
   "execution_count": 16,
   "metadata": {
    "_uuid": "dfc05969b76d08f7a9a231aae74b0ddb9dc8ee1a"
   },
   "outputs": [
    {
     "data": {
      "text/plain": [
       "84"
      ]
     },
     "execution_count": 16,
     "metadata": {},
     "output_type": "execute_result"
    }
   ],
   "source": [
    "# Define the aggregation procedure outside of the groupby operation\n",
    "aggregations = {\n",
    "    'purchase_amount': ['sum', 'mean', 'std', 'min', 'max', 'size'],\n",
    "}\n",
    "\n",
    "grouped = historical_transactions.groupby('card_id').agg(aggregations)\n",
    "grouped.columns = grouped.columns.droplevel(level=0)\n",
    "grouped.rename(columns={\n",
    "    \"sum\": \"sum_purchase_amount\", \n",
    "    \"mean\": \"mean_purchase_amount\",\n",
    "    \"std\": \"std_purchase_amount\", \n",
    "    \"min\": \"min_purchase_amount\",\n",
    "    \"max\": \"max_purchase_amount\", \n",
    "    \"size\": \"num_purchase_amount\"}, inplace=True)\n",
    "grouped.reset_index(inplace=True)\n",
    "\n",
    "train = pd.merge(train, grouped, on=\"card_id\", how=\"left\")\n",
    "test = pd.merge(test, grouped, on=\"card_id\", how=\"left\")\n",
    "\n",
    "del grouped\n",
    "gc.collect()"
   ]
  },
  {
   "cell_type": "code",
   "execution_count": 17,
   "metadata": {
    "_uuid": "3c0a4aa17d4d83a6ca7f029e99b42e8be778d255"
   },
   "outputs": [
    {
     "data": {
      "text/plain": [
       "((201917, 23), (123623, 22))"
      ]
     },
     "execution_count": 17,
     "metadata": {},
     "output_type": "execute_result"
    }
   ],
   "source": [
    "train.shape, test.shape"
   ]
  },
  {
   "cell_type": "markdown",
   "metadata": {
    "_uuid": "e604a039111fc20210812ffdee18a1a880fcd6c6"
   },
   "source": [
    "**Merge train and test with new_merchant_transactions**"
   ]
  },
  {
   "cell_type": "code",
   "execution_count": 18,
   "metadata": {
    "_uuid": "6e687ad952f1e297497b7b37dbca51cad3c37bf7"
   },
   "outputs": [
    {
     "data": {
      "text/plain": [
       "42"
      ]
     },
     "execution_count": 18,
     "metadata": {},
     "output_type": "execute_result"
    }
   ],
   "source": [
    "# Define the aggregation procedure outside of the groupby operation\n",
    "aggregations = {\n",
    "    'purchase_amount': ['sum', 'mean', 'std', 'min', 'max', 'size'],\n",
    "}\n",
    "\n",
    "grouped = new_merchant_transactions.groupby('card_id').agg(aggregations)\n",
    "grouped.columns = grouped.columns.droplevel(level=0)\n",
    "grouped.rename(columns={\n",
    "    \"sum\": \"sum_purchase_amount\", \n",
    "    \"mean\": \"mean_purchase_amount\",\n",
    "    \"std\": \"std_purchase_amount\", \n",
    "    \"min\": \"min_purchase_amount\",\n",
    "    \"max\": \"max_purchase_amount\", \n",
    "    \"size\": \"num_purchase_amount\"}, inplace=True)\n",
    "grouped.reset_index(inplace=True)\n",
    "\n",
    "train = pd.merge(train, grouped, on=\"card_id\", how=\"left\")\n",
    "test = pd.merge(test, grouped, on=\"card_id\", how=\"left\")\n",
    "\n",
    "del grouped\n",
    "gc.collect()"
   ]
  },
  {
   "cell_type": "code",
   "execution_count": 19,
   "metadata": {
    "_uuid": "3d18e97e6da48e367179672b4d377aa95071cb07"
   },
   "outputs": [
    {
     "data": {
      "text/plain": [
       "((201917, 29), (123623, 28))"
      ]
     },
     "execution_count": 19,
     "metadata": {},
     "output_type": "execute_result"
    }
   ],
   "source": [
    "train.shape, test.shape"
   ]
  },
  {
   "cell_type": "markdown",
   "metadata": {
    "_uuid": "2985c37c157f13a2e1be4778dbd4173635f0a2d3"
   },
   "source": [
    "# Featuring"
   ]
  },
  {
   "cell_type": "code",
   "execution_count": 20,
   "metadata": {
    "_uuid": "a09655e2590ffb3d5a44d11244f4d9a6ab551280"
   },
   "outputs": [
    {
     "data": {
      "text/plain": [
       "14"
      ]
     },
     "execution_count": 20,
     "metadata": {},
     "output_type": "execute_result"
    }
   ],
   "source": [
    "# One-hot encode features\n",
    "ohe_df_1 = pd.get_dummies(train['feature_1'], prefix='f1_')\n",
    "ohe_df_2 = pd.get_dummies(train['feature_2'], prefix='f2_')\n",
    "ohe_df_3 = pd.get_dummies(train['feature_3'], prefix='f3_')\n",
    "\n",
    "ohe_df_4 = pd.get_dummies(test['feature_1'], prefix='f1_')\n",
    "ohe_df_5 = pd.get_dummies(test['feature_2'], prefix='f2_')\n",
    "ohe_df_6 = pd.get_dummies(test['feature_3'], prefix='f3_')\n",
    "\n",
    "# Numerical representation of the first active month\n",
    "train = pd.concat([train, ohe_df_1, ohe_df_2, ohe_df_3], axis=1, sort=False)\n",
    "test = pd.concat([test, ohe_df_4, ohe_df_5, ohe_df_6], axis=1, sort=False)\n",
    "\n",
    "del ohe_df_1, ohe_df_2, ohe_df_3\n",
    "del ohe_df_4, ohe_df_5, ohe_df_6\n",
    "gc.collect()"
   ]
  },
  {
   "cell_type": "code",
   "execution_count": 21,
   "metadata": {
    "_uuid": "b6e8f84df895d6a4765920167f82806417e12ebd"
   },
   "outputs": [
    {
     "data": {
      "text/plain": [
       "((201917, 39), (123623, 38))"
      ]
     },
     "execution_count": 21,
     "metadata": {},
     "output_type": "execute_result"
    }
   ],
   "source": [
    "train.shape, test.shape"
   ]
  },
  {
   "cell_type": "code",
   "execution_count": 22,
   "metadata": {
    "_uuid": "da481b145fed2f9772d3067dbace13249b5e9a43"
   },
   "outputs": [],
   "source": [
    "excluded_features = ['first_active_month', 'card_id', 'target', 'date']\n",
    "train_features = [c for c in train.columns if c not in excluded_features]"
   ]
  },
  {
   "cell_type": "code",
   "execution_count": 23,
   "metadata": {
    "_uuid": "cf2d88fdd55aec44c2fdf17cb126f7e963a3a702"
   },
   "outputs": [
    {
     "name": "stdout",
     "output_type": "stream",
     "text": [
      "feature_1\n",
      "feature_2\n",
      "feature_3\n",
      "day\n",
      "dayofweek\n",
      "dayofyear\n",
      "days_in_month\n",
      "daysinmonth\n",
      "month\n",
      "week\n",
      "weekday\n",
      "weekofyear\n",
      "year\n",
      "sum_purchase_amount_x\n",
      "mean_purchase_amount_x\n",
      "std_purchase_amount_x\n",
      "min_purchase_amount_x\n",
      "max_purchase_amount_x\n",
      "num_purchase_amount_x\n",
      "sum_purchase_amount_y\n",
      "mean_purchase_amount_y\n",
      "std_purchase_amount_y\n",
      "min_purchase_amount_y\n",
      "max_purchase_amount_y\n",
      "num_purchase_amount_y\n",
      "f1__1\n",
      "f1__2\n",
      "f1__3\n",
      "f1__4\n",
      "f1__5\n",
      "f2__1\n",
      "f2__2\n",
      "f2__3\n",
      "f3__0\n",
      "f3__1\n"
     ]
    }
   ],
   "source": [
    "for f in train_features:\n",
    "    print(f)"
   ]
  },
  {
   "cell_type": "code",
   "execution_count": 24,
   "metadata": {
    "_uuid": "9debf2ef17da0e7adf878746a6bde6141a847eb4"
   },
   "outputs": [
    {
     "data": {
      "text/plain": [
       "first_active_month            0\n",
       "card_id                       0\n",
       "feature_1                     0\n",
       "feature_2                     0\n",
       "feature_3                     0\n",
       "target                        0\n",
       "date                          0\n",
       "day                           0\n",
       "dayofweek                     0\n",
       "dayofyear                     0\n",
       "days_in_month                 0\n",
       "daysinmonth                   0\n",
       "month                         0\n",
       "week                          0\n",
       "weekday                       0\n",
       "weekofyear                    0\n",
       "year                          0\n",
       "sum_purchase_amount_x         0\n",
       "mean_purchase_amount_x        0\n",
       "std_purchase_amount_x         0\n",
       "min_purchase_amount_x         0\n",
       "max_purchase_amount_x         0\n",
       "num_purchase_amount_x         0\n",
       "sum_purchase_amount_y     21931\n",
       "mean_purchase_amount_y    21931\n",
       "std_purchase_amount_y     48718\n",
       "min_purchase_amount_y     21931\n",
       "max_purchase_amount_y     21931\n",
       "num_purchase_amount_y     21931\n",
       "f1__1                         0\n",
       "f1__2                         0\n",
       "f1__3                         0\n",
       "f1__4                         0\n",
       "f1__5                         0\n",
       "f2__1                         0\n",
       "f2__2                         0\n",
       "f2__3                         0\n",
       "f3__0                         0\n",
       "f3__1                         0\n",
       "dtype: int64"
      ]
     },
     "execution_count": 24,
     "metadata": {},
     "output_type": "execute_result"
    }
   ],
   "source": [
    "train.isnull().sum()"
   ]
  },
  {
   "cell_type": "markdown",
   "metadata": {
    "_uuid": "d424bc5608f861f6dd37cce03bb2404a81c14d31"
   },
   "source": [
    "--> Still missing values. So need to fill NA again"
   ]
  },
  {
   "cell_type": "code",
   "execution_count": 25,
   "metadata": {
    "_uuid": "fa8b31197f0463bb91ee1061f00fdc17a0e83b28"
   },
   "outputs": [],
   "source": [
    "for col in train_features:\n",
    "    for df in [train, test]:\n",
    "        if df[col].dtype == \"float64\":\n",
    "            df[col] = df[col].fillna(df[col].mean())"
   ]
  },
  {
   "cell_type": "markdown",
   "metadata": {
    "_uuid": "3eb1aa7918ca54128f8fb03a441c79ffcf3f9040"
   },
   "source": [
    "# Modeling with LightGBM"
   ]
  },
  {
   "cell_type": "code",
   "execution_count": 26,
   "metadata": {
    "_uuid": "89ea69cadb4fe54b9976aec33a83e2584d9d0a88",
    "scrolled": true
   },
   "outputs": [
    {
     "data": {
      "text/plain": [
       "3.8043068891902467"
      ]
     },
     "execution_count": 26,
     "metadata": {},
     "output_type": "execute_result"
    }
   ],
   "source": [
    "# Prepare data for training\n",
    "X = train.copy()\n",
    "y = X['target']\n",
    "\n",
    "# Split data with kfold\n",
    "kfolds = KFold(n_splits=5, shuffle=True, random_state=2018)\n",
    "\n",
    "# Make importance dataframe\n",
    "importances = pd.DataFrame()\n",
    "\n",
    "oof_preds = np.zeros(X.shape[0])\n",
    "sub_preds = np.zeros(test.shape[0])\n",
    "\n",
    "for n_fold, (trn_idx, val_idx) in enumerate(kfolds.split(X, y)):\n",
    "    X_train, y_train = X[train_features].iloc[trn_idx], y.iloc[trn_idx]\n",
    "    X_valid, y_valid = X[train_features].iloc[val_idx], y.iloc[val_idx]\n",
    "    \n",
    "    # LightGBM Regressor estimator\n",
    "    model = lgb.LGBMRegressor(\n",
    "        num_leaves = 31,\n",
    "        learning_rate = 0.03,\n",
    "        n_estimators = 1000,\n",
    "        subsample = .9,\n",
    "        colsample_bytree = .9,\n",
    "        random_state = 1\n",
    "    )\n",
    "    \n",
    "    # Fit\n",
    "    model.fit(\n",
    "        X_train, y_train,\n",
    "        eval_set=[(X_train, y_train), (X_valid, y_valid)],\n",
    "        verbose=None, eval_metric='rmse',\n",
    "        early_stopping_rounds=100\n",
    "    )\n",
    "    \n",
    "    # Feature importance\n",
    "    imp_df = pd.DataFrame()\n",
    "    imp_df['feature'] = train_features\n",
    "    imp_df['gain'] = model.booster_.feature_importance(importance_type='gain')\n",
    "    imp_df['fold'] = n_fold + 1\n",
    "    importances = pd.concat([importances, imp_df], axis=0, sort=False)\n",
    "    \n",
    "    oof_preds[val_idx] = model.predict(X_valid, num_iteration=model.best_iteration_)\n",
    "    test_preds = model.predict(test[train_features], num_iteration=model.best_iteration_)\n",
    "    sub_preds += test_preds / kfolds.n_splits\n",
    "    \n",
    "mean_squared_error(y, oof_preds) ** .5"
   ]
  },
  {
   "cell_type": "markdown",
   "metadata": {
    "_uuid": "75c915da1194cf72e6a780c75a665e9821a6370c"
   },
   "source": [
    "# Display feature importances"
   ]
  },
  {
   "cell_type": "code",
   "execution_count": 27,
   "metadata": {
    "_uuid": "d1c10c5f7153f931b123307f487744f4e0b6e947"
   },
   "outputs": [
    {
     "data": {
      "text/plain": [
       "<matplotlib.axes._subplots.AxesSubplot at 0x7fdb900d5fd0>"
      ]
     },
     "execution_count": 27,
     "metadata": {},
     "output_type": "execute_result"
    },
    {
     "data": {
      "image/png": "[encoded data removed]",
      "text/plain": [
       "<Figure size 576x864 with 1 Axes>"
      ]
     },
     "metadata": {},
     "output_type": "display_data"
    }
   ],
   "source": [
    "importances['gain_log'] = importances['gain']\n",
    "mean_gain = importances[['gain', 'feature']].groupby('feature').mean()\n",
    "importances['mean_gain'] = importances['feature'].map(mean_gain['gain'])\n",
    "\n",
    "plt.figure(figsize=(8, 12))\n",
    "sns.barplot(x='gain_log', y='feature', data=importances.sort_values('mean_gain', ascending=False))"
   ]
  },
  {
   "cell_type": "markdown",
   "metadata": {
    "_uuid": "91d1dce4cf5fc9f88bf93eb6633ca8c540b100bb"
   },
   "source": [
    "# Make submission"
   ]
  },
  {
   "cell_type": "code",
   "execution_count": 28,
   "metadata": {
    "_uuid": "f88dc79e4277e9e20d15a8e5ad385edd7faf8ca0"
   },
   "outputs": [
    {
     "data": {
      "text/plain": [
       "array([-0.73082872, -0.99850643, -1.28805525, ..., -0.02534378,\n",
       "       -0.50858971, -0.03309917])"
      ]
     },
     "execution_count": 28,
     "metadata": {},
     "output_type": "execute_result"
    }
   ],
   "source": [
    "sub_preds"
   ]
  },
  {
   "cell_type": "code",
   "execution_count": 29,
   "metadata": {
    "_uuid": "110346855c0f867d9d060dc415f18d32ff68d0b8"
   },
   "outputs": [
    {
     "data": {
      "text/html": [
       "<div>\n",
       "<style scoped>\n",
       "    .dataframe tbody tr th:only-of-type {\n",
       "        vertical-align: middle;\n",
       "    }\n",
       "\n",
       "    .dataframe tbody tr th {\n",
       "        vertical-align: top;\n",
       "    }\n",
       "\n",
       "    .dataframe thead th {\n",
       "        text-align: right;\n",
       "    }\n",
       "</style>\n",
       "<table border=\"1\" class=\"dataframe\">\n",
       "  <thead>\n",
       "    <tr style=\"text-align: right;\">\n",
       "      <th></th>\n",
       "      <th>card_id</th>\n",
       "      <th>target</th>\n",
       "    </tr>\n",
       "  </thead>\n",
       "  <tbody>\n",
       "    <tr>\n",
       "      <th>0</th>\n",
       "      <td>C_ID_0ab67a22ab</td>\n",
       "      <td>-0.730829</td>\n",
       "    </tr>\n",
       "    <tr>\n",
       "      <th>1</th>\n",
       "      <td>C_ID_130fd0cbdd</td>\n",
       "      <td>-0.998506</td>\n",
       "    </tr>\n",
       "    <tr>\n",
       "      <th>2</th>\n",
       "      <td>C_ID_b709037bc5</td>\n",
       "      <td>-1.288055</td>\n",
       "    </tr>\n",
       "    <tr>\n",
       "      <th>3</th>\n",
       "      <td>C_ID_d27d835a9f</td>\n",
       "      <td>-0.099780</td>\n",
       "    </tr>\n",
       "    <tr>\n",
       "      <th>4</th>\n",
       "      <td>C_ID_2b5e3df5c2</td>\n",
       "      <td>-1.113085</td>\n",
       "    </tr>\n",
       "  </tbody>\n",
       "</table>\n",
       "</div>"
      ],
      "text/plain": [
       "           card_id    target\n",
       "0  C_ID_0ab67a22ab -0.730829\n",
       "1  C_ID_130fd0cbdd -0.998506\n",
       "2  C_ID_b709037bc5 -1.288055\n",
       "3  C_ID_d27d835a9f -0.099780\n",
       "4  C_ID_2b5e3df5c2 -1.113085"
      ]
     },
     "execution_count": 29,
     "metadata": {},
     "output_type": "execute_result"
    }
   ],
   "source": [
    "# Make submission 1\n",
    "sample_submission['target'] = sub_preds\n",
    "sample_submission.to_csv(\"submission1.csv\", index=False)\n",
    "sample_submission.head()"
   ]
  },
  {
   "cell_type": "code",
   "execution_count": 30,
   "metadata": {
    "_uuid": "146746a9a9f08a73586ce62f7087c7685a7deaa0"
   },
   "outputs": [
    {
     "data": {
      "text/html": [
       "<div>\n",
       "<style scoped>\n",
       "    .dataframe tbody tr th:only-of-type {\n",
       "        vertical-align: middle;\n",
       "    }\n",
       "\n",
       "    .dataframe tbody tr th {\n",
       "        vertical-align: top;\n",
       "    }\n",
       "\n",
       "    .dataframe thead th {\n",
       "        text-align: right;\n",
       "    }\n",
       "</style>\n",
       "<table border=\"1\" class=\"dataframe\">\n",
       "  <thead>\n",
       "    <tr style=\"text-align: right;\">\n",
       "      <th></th>\n",
       "      <th>card_id</th>\n",
       "      <th>target</th>\n",
       "    </tr>\n",
       "  </thead>\n",
       "  <tbody>\n",
       "    <tr>\n",
       "      <th>0</th>\n",
       "      <td>C_ID_0ab67a22ab</td>\n",
       "      <td>0.730829</td>\n",
       "    </tr>\n",
       "    <tr>\n",
       "      <th>1</th>\n",
       "      <td>C_ID_130fd0cbdd</td>\n",
       "      <td>0.998506</td>\n",
       "    </tr>\n",
       "    <tr>\n",
       "      <th>2</th>\n",
       "      <td>C_ID_b709037bc5</td>\n",
       "      <td>1.288055</td>\n",
       "    </tr>\n",
       "    <tr>\n",
       "      <th>3</th>\n",
       "      <td>C_ID_d27d835a9f</td>\n",
       "      <td>0.099780</td>\n",
       "    </tr>\n",
       "    <tr>\n",
       "      <th>4</th>\n",
       "      <td>C_ID_2b5e3df5c2</td>\n",
       "      <td>1.113085</td>\n",
       "    </tr>\n",
       "  </tbody>\n",
       "</table>\n",
       "</div>"
      ],
      "text/plain": [
       "           card_id    target\n",
       "0  C_ID_0ab67a22ab  0.730829\n",
       "1  C_ID_130fd0cbdd  0.998506\n",
       "2  C_ID_b709037bc5  1.288055\n",
       "3  C_ID_d27d835a9f  0.099780\n",
       "4  C_ID_2b5e3df5c2  1.113085"
      ]
     },
     "execution_count": 30,
     "metadata": {},
     "output_type": "execute_result"
    }
   ],
   "source": [
    "# Make submission 2 - revert from submission 1\n",
    "sample_submission['target'] = -1*sub_preds\n",
    "sample_submission.to_csv(\"submission2.csv\", index=False)\n",
    "sample_submission.head()"
   ]
  },
  {
   "cell_type": "code",
   "execution_count": 31,
   "metadata": {
    "_uuid": "16f3568e5dd4758a45213fc751682d7a509ce1a3"
   },
   "outputs": [
    {
     "data": {
      "text/plain": [
       "123623"
      ]
     },
     "execution_count": 31,
     "metadata": {},
     "output_type": "execute_result"
    }
   ],
   "source": [
    "# Length of submission\n",
    "len(sub_preds)"
   ]
  },
  {
   "cell_type": "code",
   "execution_count": 33,
   "metadata": {
    "_uuid": "4d4139ef8c96633c435d3d0469e38413b4d8bf6f"
   },
   "outputs": [
    {
     "data": {
      "text/plain": [
       "19038"
      ]
     },
     "execution_count": 33,
     "metadata": {},
     "output_type": "execute_result"
    }
   ],
   "source": [
    "# How many positive target values\n",
    "np.sum(np.array(sub_preds) >= 0, axis=0)\n"
   ]
  },
  {
   "cell_type": "code",
   "execution_count": 34,
   "metadata": {
    "_uuid": "0a144b9b3aa04a93d090032faf2b8b2ff64eb63e"
   },
   "outputs": [
    {
     "data": {
      "text/html": [
       "<div>\n",
       "<style scoped>\n",
       "    .dataframe tbody tr th:only-of-type {\n",
       "        vertical-align: middle;\n",
       "    }\n",
       "\n",
       "    .dataframe tbody tr th {\n",
       "        vertical-align: top;\n",
       "    }\n",
       "\n",
       "    .dataframe thead th {\n",
       "        text-align: right;\n",
       "    }\n",
       "</style>\n",
       "<table border=\"1\" class=\"dataframe\">\n",
       "  <thead>\n",
       "    <tr style=\"text-align: right;\">\n",
       "      <th></th>\n",
       "      <th>card_id</th>\n",
       "      <th>target</th>\n",
       "    </tr>\n",
       "  </thead>\n",
       "  <tbody>\n",
       "    <tr>\n",
       "      <th>0</th>\n",
       "      <td>C_ID_0ab67a22ab</td>\n",
       "      <td>0.730829</td>\n",
       "    </tr>\n",
       "    <tr>\n",
       "      <th>1</th>\n",
       "      <td>C_ID_130fd0cbdd</td>\n",
       "      <td>0.998506</td>\n",
       "    </tr>\n",
       "    <tr>\n",
       "      <th>2</th>\n",
       "      <td>C_ID_b709037bc5</td>\n",
       "      <td>1.288055</td>\n",
       "    </tr>\n",
       "    <tr>\n",
       "      <th>3</th>\n",
       "      <td>C_ID_d27d835a9f</td>\n",
       "      <td>0.099780</td>\n",
       "    </tr>\n",
       "    <tr>\n",
       "      <th>4</th>\n",
       "      <td>C_ID_2b5e3df5c2</td>\n",
       "      <td>1.113085</td>\n",
       "    </tr>\n",
       "    <tr>\n",
       "      <th>5</th>\n",
       "      <td>C_ID_5814b4f13c</td>\n",
       "      <td>0.423457</td>\n",
       "    </tr>\n",
       "    <tr>\n",
       "      <th>6</th>\n",
       "      <td>C_ID_a1b3c75277</td>\n",
       "      <td>0.766115</td>\n",
       "    </tr>\n",
       "    <tr>\n",
       "      <th>7</th>\n",
       "      <td>C_ID_f7cada36d3</td>\n",
       "      <td>0.755411</td>\n",
       "    </tr>\n",
       "    <tr>\n",
       "      <th>8</th>\n",
       "      <td>C_ID_9d2bc8dfc4</td>\n",
       "      <td>1.152085</td>\n",
       "    </tr>\n",
       "    <tr>\n",
       "      <th>9</th>\n",
       "      <td>C_ID_6d8dba8475</td>\n",
       "      <td>0.733757</td>\n",
       "    </tr>\n",
       "    <tr>\n",
       "      <th>10</th>\n",
       "      <td>C_ID_4859ac9ed5</td>\n",
       "      <td>0.766879</td>\n",
       "    </tr>\n",
       "    <tr>\n",
       "      <th>11</th>\n",
       "      <td>C_ID_0e281e8ad6</td>\n",
       "      <td>0.503034</td>\n",
       "    </tr>\n",
       "    <tr>\n",
       "      <th>12</th>\n",
       "      <td>C_ID_8375dfdaa2</td>\n",
       "      <td>0.206300</td>\n",
       "    </tr>\n",
       "    <tr>\n",
       "      <th>13</th>\n",
       "      <td>C_ID_79d149c008</td>\n",
       "      <td>-0.204799</td>\n",
       "    </tr>\n",
       "    <tr>\n",
       "      <th>14</th>\n",
       "      <td>C_ID_7f1041e8e1</td>\n",
       "      <td>-0.665962</td>\n",
       "    </tr>\n",
       "    <tr>\n",
       "      <th>15</th>\n",
       "      <td>C_ID_f72513589e</td>\n",
       "      <td>-0.532643</td>\n",
       "    </tr>\n",
       "    <tr>\n",
       "      <th>16</th>\n",
       "      <td>C_ID_a7f2d6984e</td>\n",
       "      <td>-0.038397</td>\n",
       "    </tr>\n",
       "    <tr>\n",
       "      <th>17</th>\n",
       "      <td>C_ID_15489b42d3</td>\n",
       "      <td>0.595439</td>\n",
       "    </tr>\n",
       "    <tr>\n",
       "      <th>18</th>\n",
       "      <td>C_ID_e457bbd71d</td>\n",
       "      <td>0.041395</td>\n",
       "    </tr>\n",
       "    <tr>\n",
       "      <th>19</th>\n",
       "      <td>C_ID_3f74e10c7e</td>\n",
       "      <td>0.826128</td>\n",
       "    </tr>\n",
       "    <tr>\n",
       "      <th>20</th>\n",
       "      <td>C_ID_48243da9c4</td>\n",
       "      <td>0.030422</td>\n",
       "    </tr>\n",
       "    <tr>\n",
       "      <th>21</th>\n",
       "      <td>C_ID_7ea1fcf117</td>\n",
       "      <td>1.547839</td>\n",
       "    </tr>\n",
       "    <tr>\n",
       "      <th>22</th>\n",
       "      <td>C_ID_22e4a47c72</td>\n",
       "      <td>0.767671</td>\n",
       "    </tr>\n",
       "    <tr>\n",
       "      <th>23</th>\n",
       "      <td>C_ID_5d30729184</td>\n",
       "      <td>-0.333318</td>\n",
       "    </tr>\n",
       "    <tr>\n",
       "      <th>24</th>\n",
       "      <td>C_ID_b54cfad8b2</td>\n",
       "      <td>0.497764</td>\n",
       "    </tr>\n",
       "    <tr>\n",
       "      <th>25</th>\n",
       "      <td>C_ID_4b82e26faa</td>\n",
       "      <td>0.602512</td>\n",
       "    </tr>\n",
       "    <tr>\n",
       "      <th>26</th>\n",
       "      <td>C_ID_60a453531a</td>\n",
       "      <td>1.110885</td>\n",
       "    </tr>\n",
       "    <tr>\n",
       "      <th>27</th>\n",
       "      <td>C_ID_0c9315feec</td>\n",
       "      <td>0.324772</td>\n",
       "    </tr>\n",
       "    <tr>\n",
       "      <th>28</th>\n",
       "      <td>C_ID_1e28804d36</td>\n",
       "      <td>0.747695</td>\n",
       "    </tr>\n",
       "    <tr>\n",
       "      <th>29</th>\n",
       "      <td>C_ID_68de79f7e2</td>\n",
       "      <td>0.704252</td>\n",
       "    </tr>\n",
       "    <tr>\n",
       "      <th>...</th>\n",
       "      <td>...</td>\n",
       "      <td>...</td>\n",
       "    </tr>\n",
       "    <tr>\n",
       "      <th>123593</th>\n",
       "      <td>C_ID_cd42a5db89</td>\n",
       "      <td>0.300047</td>\n",
       "    </tr>\n",
       "    <tr>\n",
       "      <th>123594</th>\n",
       "      <td>C_ID_715b9a183d</td>\n",
       "      <td>1.048416</td>\n",
       "    </tr>\n",
       "    <tr>\n",
       "      <th>123595</th>\n",
       "      <td>C_ID_9b25df3309</td>\n",
       "      <td>-0.066280</td>\n",
       "    </tr>\n",
       "    <tr>\n",
       "      <th>123596</th>\n",
       "      <td>C_ID_043b3c2ccd</td>\n",
       "      <td>1.210882</td>\n",
       "    </tr>\n",
       "    <tr>\n",
       "      <th>123597</th>\n",
       "      <td>C_ID_7685eae7b2</td>\n",
       "      <td>0.459564</td>\n",
       "    </tr>\n",
       "    <tr>\n",
       "      <th>123598</th>\n",
       "      <td>C_ID_7ee1a21a95</td>\n",
       "      <td>0.716538</td>\n",
       "    </tr>\n",
       "    <tr>\n",
       "      <th>123599</th>\n",
       "      <td>C_ID_2bf12fed6b</td>\n",
       "      <td>-0.018857</td>\n",
       "    </tr>\n",
       "    <tr>\n",
       "      <th>123600</th>\n",
       "      <td>C_ID_2932a6ea37</td>\n",
       "      <td>0.770094</td>\n",
       "    </tr>\n",
       "    <tr>\n",
       "      <th>123601</th>\n",
       "      <td>C_ID_cc33d0d508</td>\n",
       "      <td>1.245368</td>\n",
       "    </tr>\n",
       "    <tr>\n",
       "      <th>123602</th>\n",
       "      <td>C_ID_8852708dcb</td>\n",
       "      <td>0.369608</td>\n",
       "    </tr>\n",
       "    <tr>\n",
       "      <th>123603</th>\n",
       "      <td>C_ID_c3e88ef62d</td>\n",
       "      <td>0.803872</td>\n",
       "    </tr>\n",
       "    <tr>\n",
       "      <th>123604</th>\n",
       "      <td>C_ID_650557248c</td>\n",
       "      <td>0.974805</td>\n",
       "    </tr>\n",
       "    <tr>\n",
       "      <th>123605</th>\n",
       "      <td>C_ID_f14af9cb56</td>\n",
       "      <td>1.111756</td>\n",
       "    </tr>\n",
       "    <tr>\n",
       "      <th>123606</th>\n",
       "      <td>C_ID_068dcf31e8</td>\n",
       "      <td>0.337757</td>\n",
       "    </tr>\n",
       "    <tr>\n",
       "      <th>123607</th>\n",
       "      <td>C_ID_6659f4625a</td>\n",
       "      <td>-0.502183</td>\n",
       "    </tr>\n",
       "    <tr>\n",
       "      <th>123608</th>\n",
       "      <td>C_ID_dc842bba27</td>\n",
       "      <td>0.795317</td>\n",
       "    </tr>\n",
       "    <tr>\n",
       "      <th>123609</th>\n",
       "      <td>C_ID_bd625edce0</td>\n",
       "      <td>-0.189567</td>\n",
       "    </tr>\n",
       "    <tr>\n",
       "      <th>123610</th>\n",
       "      <td>C_ID_278446cc2f</td>\n",
       "      <td>-0.133982</td>\n",
       "    </tr>\n",
       "    <tr>\n",
       "      <th>123611</th>\n",
       "      <td>C_ID_ad358eb92e</td>\n",
       "      <td>1.062412</td>\n",
       "    </tr>\n",
       "    <tr>\n",
       "      <th>123612</th>\n",
       "      <td>C_ID_7d9bcec574</td>\n",
       "      <td>0.453564</td>\n",
       "    </tr>\n",
       "    <tr>\n",
       "      <th>123613</th>\n",
       "      <td>C_ID_b588b35e15</td>\n",
       "      <td>-0.414625</td>\n",
       "    </tr>\n",
       "    <tr>\n",
       "      <th>123614</th>\n",
       "      <td>C_ID_7147e348c3</td>\n",
       "      <td>0.135107</td>\n",
       "    </tr>\n",
       "    <tr>\n",
       "      <th>123615</th>\n",
       "      <td>C_ID_727d3ec5da</td>\n",
       "      <td>0.602528</td>\n",
       "    </tr>\n",
       "    <tr>\n",
       "      <th>123616</th>\n",
       "      <td>C_ID_107d93e20c</td>\n",
       "      <td>1.112914</td>\n",
       "    </tr>\n",
       "    <tr>\n",
       "      <th>123617</th>\n",
       "      <td>C_ID_0e74bd4966</td>\n",
       "      <td>-0.083417</td>\n",
       "    </tr>\n",
       "    <tr>\n",
       "      <th>123618</th>\n",
       "      <td>C_ID_7a239d2eda</td>\n",
       "      <td>0.209403</td>\n",
       "    </tr>\n",
       "    <tr>\n",
       "      <th>123619</th>\n",
       "      <td>C_ID_75ace375ae</td>\n",
       "      <td>0.547686</td>\n",
       "    </tr>\n",
       "    <tr>\n",
       "      <th>123620</th>\n",
       "      <td>C_ID_21d56d950c</td>\n",
       "      <td>0.025344</td>\n",
       "    </tr>\n",
       "    <tr>\n",
       "      <th>123621</th>\n",
       "      <td>C_ID_6c46fc5a9d</td>\n",
       "      <td>0.508590</td>\n",
       "    </tr>\n",
       "    <tr>\n",
       "      <th>123622</th>\n",
       "      <td>C_ID_87e7979a5f</td>\n",
       "      <td>0.033099</td>\n",
       "    </tr>\n",
       "  </tbody>\n",
       "</table>\n",
       "<p>123623 rows × 2 columns</p>\n",
       "</div>"
      ],
      "text/plain": [
       "                card_id    target\n",
       "0       C_ID_0ab67a22ab  0.730829\n",
       "1       C_ID_130fd0cbdd  0.998506\n",
       "2       C_ID_b709037bc5  1.288055\n",
       "3       C_ID_d27d835a9f  0.099780\n",
       "4       C_ID_2b5e3df5c2  1.113085\n",
       "5       C_ID_5814b4f13c  0.423457\n",
       "6       C_ID_a1b3c75277  0.766115\n",
       "7       C_ID_f7cada36d3  0.755411\n",
       "8       C_ID_9d2bc8dfc4  1.152085\n",
       "9       C_ID_6d8dba8475  0.733757\n",
       "10      C_ID_4859ac9ed5  0.766879\n",
       "11      C_ID_0e281e8ad6  0.503034\n",
       "12      C_ID_8375dfdaa2  0.206300\n",
       "13      C_ID_79d149c008 -0.204799\n",
       "14      C_ID_7f1041e8e1 -0.665962\n",
       "15      C_ID_f72513589e -0.532643\n",
       "16      C_ID_a7f2d6984e -0.038397\n",
       "17      C_ID_15489b42d3  0.595439\n",
       "18      C_ID_e457bbd71d  0.041395\n",
       "19      C_ID_3f74e10c7e  0.826128\n",
       "20      C_ID_48243da9c4  0.030422\n",
       "21      C_ID_7ea1fcf117  1.547839\n",
       "22      C_ID_22e4a47c72  0.767671\n",
       "23      C_ID_5d30729184 -0.333318\n",
       "24      C_ID_b54cfad8b2  0.497764\n",
       "25      C_ID_4b82e26faa  0.602512\n",
       "26      C_ID_60a453531a  1.110885\n",
       "27      C_ID_0c9315feec  0.324772\n",
       "28      C_ID_1e28804d36  0.747695\n",
       "29      C_ID_68de79f7e2  0.704252\n",
       "...                 ...       ...\n",
       "123593  C_ID_cd42a5db89  0.300047\n",
       "123594  C_ID_715b9a183d  1.048416\n",
       "123595  C_ID_9b25df3309 -0.066280\n",
       "123596  C_ID_043b3c2ccd  1.210882\n",
       "123597  C_ID_7685eae7b2  0.459564\n",
       "123598  C_ID_7ee1a21a95  0.716538\n",
       "123599  C_ID_2bf12fed6b -0.018857\n",
       "123600  C_ID_2932a6ea37  0.770094\n",
       "123601  C_ID_cc33d0d508  1.245368\n",
       "123602  C_ID_8852708dcb  0.369608\n",
       "123603  C_ID_c3e88ef62d  0.803872\n",
       "123604  C_ID_650557248c  0.974805\n",
       "123605  C_ID_f14af9cb56  1.111756\n",
       "123606  C_ID_068dcf31e8  0.337757\n",
       "123607  C_ID_6659f4625a -0.502183\n",
       "123608  C_ID_dc842bba27  0.795317\n",
       "123609  C_ID_bd625edce0 -0.189567\n",
       "123610  C_ID_278446cc2f -0.133982\n",
       "123611  C_ID_ad358eb92e  1.062412\n",
       "123612  C_ID_7d9bcec574  0.453564\n",
       "123613  C_ID_b588b35e15 -0.414625\n",
       "123614  C_ID_7147e348c3  0.135107\n",
       "123615  C_ID_727d3ec5da  0.602528\n",
       "123616  C_ID_107d93e20c  1.112914\n",
       "123617  C_ID_0e74bd4966 -0.083417\n",
       "123618  C_ID_7a239d2eda  0.209403\n",
       "123619  C_ID_75ace375ae  0.547686\n",
       "123620  C_ID_21d56d950c  0.025344\n",
       "123621  C_ID_6c46fc5a9d  0.508590\n",
       "123622  C_ID_87e7979a5f  0.033099\n",
       "\n",
       "[123623 rows x 2 columns]"
      ]
     },
     "execution_count": 34,
     "metadata": {},
     "output_type": "execute_result"
    }
   ],
   "source": [
    "sample_submission"
   ]
  },
  {
   "cell_type": "code",
   "execution_count": null,
   "metadata": {
    "_uuid": "ea0c2154f67a0a47311b1e2cddfe827388315da3"
   },
   "outputs": [],
   "source": []
  }
 ],
 "metadata": {
  "kernelspec": {
   "display_name": "Python 3",
   "language": "python",
   "name": "python3"
  },
  "language_info": {
   "codemirror_mode": {
    "name": "ipython",
    "version": 3
   },
   "file_extension": ".py",
   "mimetype": "text/x-python",
   "name": "python",
   "nbconvert_exporter": "python",
   "pygments_lexer": "ipython3",
   "version": "3.6.4"
  }
 },
 "nbformat": 4,
 "nbformat_minor": 1
}
